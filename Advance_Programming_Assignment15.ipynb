{
 "cells": [
  {
   "cell_type": "code",
   "execution_count": null,
   "metadata": {},
   "outputs": [],
   "source": [
    "Q1). Write a function that returns True if a given name can generate an array of\n",
    "words."
   ]
  },
  {
   "cell_type": "code",
   "execution_count": 1,
   "metadata": {},
   "outputs": [
    {
     "name": "stdout",
     "output_type": "stream",
     "text": [
      "True\n",
      "True\n",
      "False\n",
      "False\n"
     ]
    }
   ],
   "source": [
    "def anagram(s,li):\n",
    "    s = s.lower()\n",
    "    s = list(s)\n",
    "    for i in li:\n",
    "        for j in range(len(i)):\n",
    "            if i[j] in s:\n",
    "                s.remove(i[j])\n",
    "            \n",
    "            else:\n",
    "                return False\n",
    "    if s != [' ']:\n",
    "        return False\n",
    "    else:\n",
    "        return True\n",
    "\n",
    "\n",
    "print(anagram('Justin Bieber',['injures','ebb','it']))\n",
    "print(anagram('Natalie Portman',['ornamental','pita']))\n",
    "print(anagram(\"Chris Pratt\",['chirps','rat']))\n",
    "print(anagram('Jeff Goldblum',['jog','meld','bluffs']))\n",
    "            \n",
    "                "
   ]
  },
  {
   "cell_type": "code",
   "execution_count": null,
   "metadata": {},
   "outputs": [],
   "source": [
    "Q2). Given an array of users, each defined by an object with the following\n",
    "properties: name, score, reputation create a function that sorts the array to\n",
    "form the correct leaderboard."
   ]
  },
  {
   "cell_type": "code",
   "execution_count": 2,
   "metadata": {},
   "outputs": [
    {
     "name": "stdout",
     "output_type": "stream",
     "text": [
      "leaderboards([{'name': 'a', 'score': 100, 'reputation': 20}, {'name': 'b', 'score': 90, 'reputation': 40}, {'name': 'c', 'score': 115, 'reputation': 30}]) ➞ [{'name': 'c', 'score': 115, 'reputation': 30}, {'name': 'b', 'score': 90, 'reputation': 40}, {'name': 'a', 'score': 100, 'reputation': 20}]\n"
     ]
    }
   ],
   "source": [
    "def leaderboards(in_list):\n",
    "    temp_dict = {}\n",
    "    out_list = []\n",
    "    for ele in in_list:\n",
    "        temp_dict[(ele['reputation']*2)+ele['score']] = ele\n",
    "    for ele in sorted(temp_dict.keys(),reverse=True):\n",
    "        out_list.append(temp_dict[ele])\n",
    "    print(f'leaderboards({in_list}) ➞ {out_list}')\n",
    "    \n",
    "leaderboards([\n",
    "  { \"name\": \"a\", \"score\": 100, \"reputation\": 20 },\n",
    "  { \"name\": \"b\", \"score\": 90, \"reputation\": 40 },\n",
    "  { \"name\": \"c\", \"score\": 115, \"reputation\": 30 },\n",
    "])"
   ]
  },
  {
   "cell_type": "code",
   "execution_count": null,
   "metadata": {},
   "outputs": [],
   "source": [
    "Q3). Create a function that, given a phrase and a number of letters guessed,\n",
    "returns a string with hyphens - for every letter of the phrase not guessed, and\n",
    "each letter guessed in place."
   ]
  },
  {
   "cell_type": "code",
   "execution_count": 3,
   "metadata": {},
   "outputs": [
    {
     "name": "stdout",
     "output_type": "stream",
     "text": [
      "-e---o--e-\n",
      "tree\n",
      "p----n r----\n"
     ]
    }
   ],
   "source": [
    "def hangman(s,li):\n",
    "    s = s.lower()\n",
    "    ans = ''\n",
    "    for i in s:\n",
    "        if i in li:\n",
    "            ans = ans + i\n",
    "        elif i == ' ':\n",
    "            ans = ans + i\n",
    "        else:\n",
    "            ans = ans + '-'\n",
    "    return ans\n",
    "\n",
    "print(hangman('helicopter',['o','e','s']))\n",
    "print(hangman('tree',['r','t','e']))\n",
    "print(hangman('Python rules',['a','n','p','r','z']))"
   ]
  },
  {
   "cell_type": "code",
   "execution_count": null,
   "metadata": {},
   "outputs": [],
   "source": [
    "Q4). The Collatz sequence is as follows:\n",
    "- Start with some given integer n.\n",
    "- If it is even, the next number will be n divided by 2.\n",
    "- If it is odd, multiply it by 3 and add 1 to make the next number.\n",
    "- The sequence stops when it reaches 1.\n",
    "According to the Collatz conjecture, it will always reach 1. If that&#39;s true, you\n",
    "can construct a finite sequence following the aforementioned method for any\n",
    "given integer."
   ]
  },
  {
   "cell_type": "code",
   "execution_count": 4,
   "metadata": {},
   "outputs": [
    {
     "name": "stdout",
     "output_type": "stream",
     "text": [
      "16\n",
      "32\n",
      "256\n"
     ]
    }
   ],
   "source": [
    "def max_collatz(n):\n",
    "    li = []\n",
    "    li.append(n)\n",
    "    while n != 1:\n",
    "        if (n&1) == 1:\n",
    "            n = (n*3)+1\n",
    "        else:\n",
    "            n = n//2\n",
    "        li.append(n)\n",
    "    return max(li)\n",
    "\n",
    "print(max_collatz(10))\n",
    "print(max_collatz(32))\n",
    "print(max_collatz(85))"
   ]
  },
  {
   "cell_type": "code",
   "execution_count": null,
   "metadata": {},
   "outputs": [],
   "source": [
    "Q5). Write a function that sorts a list of integers by their digit length in\n",
    "descending order, then settles ties by sorting numbers with the same digit\n",
    "length in ascending order."
   ]
  },
  {
   "cell_type": "code",
   "execution_count": 5,
   "metadata": {},
   "outputs": [
    {
     "name": "stdout",
     "output_type": "stream",
     "text": [
      "[101, 23, 77, 5, 7]\n",
      "[444, 563, 789, 1, 2, 5, 9]\n",
      "[53219, 3772, 564, 32, 1]\n"
     ]
    }
   ],
   "source": [
    "def digit_sort(in_list):\n",
    "    max_len = len(str(max(in_list)))\n",
    "    output = []\n",
    "    for item in range(max_len,0,-1):\n",
    "        temp = []\n",
    "        for ele in in_list:\n",
    "            if len(str(ele)) == item:\n",
    "                temp.append(ele)\n",
    "        output.extend(sorted(temp))\n",
    "    return output\n",
    "    \n",
    "print(digit_sort([77, 23, 5, 7, 101]))\n",
    "print(digit_sort([1, 5, 9, 2, 789, 563, 444]))\n",
    "print(digit_sort([53219, 3772, 564, 32, 1]))"
   ]
  },
  {
   "cell_type": "code",
   "execution_count": null,
   "metadata": {},
   "outputs": [],
   "source": []
  }
 ],
 "metadata": {
  "kernelspec": {
   "display_name": "Python 3",
   "language": "python",
   "name": "python3"
  },
  "language_info": {
   "codemirror_mode": {
    "name": "ipython",
    "version": 3
   },
   "file_extension": ".py",
   "mimetype": "text/x-python",
   "name": "python",
   "nbconvert_exporter": "python",
   "pygments_lexer": "ipython3",
   "version": "3.8.5"
  }
 },
 "nbformat": 4,
 "nbformat_minor": 4
}
