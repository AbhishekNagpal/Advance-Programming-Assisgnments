{
 "cells": [
  {
   "cell_type": "code",
   "execution_count": null,
   "metadata": {},
   "outputs": [],
   "source": [
    "Q1). or this challenge, forget how to add two numbers together. The best explanation on \n",
    "what to do for this function is this meme:\n",
    "Examples\n",
    "\n",
    "meme_sum(26, 39) ➞ 515 # 2+3 = 5, 6+9 = 15\n",
    "\n"
   ]
  },
  {
   "cell_type": "code",
   "execution_count": 1,
   "metadata": {},
   "outputs": [
    {
     "name": "stdout",
     "output_type": "stream",
     "text": [
      "515\n",
      "1103\n",
      "31499\n",
      "213\n"
     ]
    }
   ],
   "source": [
    "def meme_sum(a,b):\n",
    "    s = ''\n",
    "    while a>0 or b>0:\n",
    "        n1 = a%10\n",
    "        n2 = b%10\n",
    "        ans = n1+n2\n",
    "        s = str(ans) + s\n",
    "        a = a//10\n",
    "        b = b//10\n",
    "    return int(s)\n",
    "\n",
    "print(meme_sum(26, 39))\n",
    "print(meme_sum(122,81))\n",
    "print(meme_sum(1222, 30277))\n",
    "print(meme_sum(10,203))"
   ]
  },
  {
   "cell_type": "code",
   "execution_count": null,
   "metadata": {},
   "outputs": [],
   "source": [
    "Q2). Given an integer, create a function that returns the next prime. If the number is prime,\n",
    "return the number itself.\n",
    "Examples\n",
    "\n",
    "next_prime(12) ➞ 13\n",
    "\n",
    "next_prime(24) ➞ 29\n",
    "\n",
    "next_prime(11) ➞ 11\n",
    "\n"
   ]
  },
  {
   "cell_type": "code",
   "execution_count": 2,
   "metadata": {},
   "outputs": [
    {
     "name": "stdout",
     "output_type": "stream",
     "text": [
      "13\n",
      "29\n",
      "11\n",
      "83\n",
      "11\n"
     ]
    }
   ],
   "source": [
    "def next_prime(n):\n",
    "    \n",
    "    while True:\n",
    "        c = 0\n",
    "        if n == 2:\n",
    "            return 2\n",
    "        elif n>2:\n",
    "            for i in range(2,n):\n",
    "                if n%i==0:\n",
    "                    c += 1\n",
    "            if c == 0:\n",
    "                return n\n",
    "            else:\n",
    "                n += 1\n",
    "            \n",
    "                \n",
    "print(next_prime(12))\n",
    "print(next_prime(24))\n",
    "print(next_prime(11))\n",
    "print(next_prime(83))\n",
    "print(next_prime(8))"
   ]
  },
  {
   "cell_type": "code",
   "execution_count": null,
   "metadata": {},
   "outputs": [],
   "source": [
    "Q3). If a person traveled up a hill for 18mins at 20mph and then traveled back down the same \n",
    "path at 60mph then their average speed traveled was 30mph.\n"
   ]
  },
  {
   "cell_type": "code",
   "execution_count": 3,
   "metadata": {},
   "outputs": [
    {
     "name": "stdout",
     "output_type": "stream",
     "text": [
      "30\n",
      "15\n",
      "12\n"
     ]
    }
   ],
   "source": [
    "def ave_spd(uphill_time, uphill_rate, downhill_rate):\n",
    "    return int(2 * uphill_rate * downhill_rate/ (uphill_rate + downhill_rate))\n",
    "\n",
    "print(ave_spd(18, 20, 60))\n",
    "print(ave_spd(30, 10, 30))\n",
    "print(ave_spd(30,8,24))"
   ]
  },
  {
   "cell_type": "code",
   "execution_count": null,
   "metadata": {},
   "outputs": [],
   "source": [
    "Q4). The Kempner Function, applied to a composite number, permits to find the\n",
    "smallest integer greater than zero whose factorial is exactly divided by the\n",
    "number."
   ]
  },
  {
   "cell_type": "code",
   "execution_count": 4,
   "metadata": {},
   "outputs": [
    {
     "name": "stdout",
     "output_type": "stream",
     "text": [
      "3\n",
      "5\n",
      "2\n",
      "5\n"
     ]
    }
   ],
   "source": [
    "def fact(n):\n",
    "    if n == 0:\n",
    "        return 1\n",
    "    else:\n",
    "        return n*fact(n-1)\n",
    "    \n",
    "def kempner(n):\n",
    "    i = 1\n",
    "    while True :\n",
    "        \n",
    "        if fact(i)%n==0:\n",
    "            return i\n",
    "        else:\n",
    "            i+=1\n",
    "            \n",
    "print(kempner(6))\n",
    "print(kempner(10))\n",
    "print(kempner(2))\n",
    "print(kempner(5))"
   ]
  },
  {
   "cell_type": "code",
   "execution_count": null,
   "metadata": {},
   "outputs": [],
   "source": [
    "Q5). You work in a factory, and your job is to take items from a conveyor belt\n",
    "and pack them into boxes. Each box can hold a maximum of 10 kgs. Given a\n",
    "list containing the weight (in kg) of each item, how many boxes would you\n",
    "need to pack all of the items?"
   ]
  },
  {
   "cell_type": "code",
   "execution_count": 5,
   "metadata": {},
   "outputs": [
    {
     "name": "stdout",
     "output_type": "stream",
     "text": [
      "[[2, 1, 2, 5], [4, 3], [6, 1, 1], [9], [3, 2]]\n",
      "[[5, 1, 3], [6], [8, 2], [3, 1, 4, 2], [5], [6], [10]]\n"
     ]
    }
   ],
   "source": [
    "def boxes(l):\n",
    "    l1 = []\n",
    "    box = []\n",
    "    for i in l:\n",
    "        box.append(i)\n",
    "        if sum(box) > 10:\n",
    "            box.pop()\n",
    "            l1.append(box)\n",
    "            box = []\n",
    "            box.append(i)\n",
    "    l1.append(box)\n",
    "    return l1\n",
    "print(boxes([2, 1, 2, 5, 4, 3, 6, 1, 1, 9, 3, 2]))\n",
    "print(boxes([5,1,3,6,8,2,3,1,4,2,5,6,10]))"
   ]
  },
  {
   "cell_type": "code",
   "execution_count": null,
   "metadata": {},
   "outputs": [],
   "source": []
  }
 ],
 "metadata": {
  "kernelspec": {
   "display_name": "Python 3",
   "language": "python",
   "name": "python3"
  },
  "language_info": {
   "codemirror_mode": {
    "name": "ipython",
    "version": 3
   },
   "file_extension": ".py",
   "mimetype": "text/x-python",
   "name": "python",
   "nbconvert_exporter": "python",
   "pygments_lexer": "ipython3",
   "version": "3.8.5"
  }
 },
 "nbformat": 4,
 "nbformat_minor": 4
}
