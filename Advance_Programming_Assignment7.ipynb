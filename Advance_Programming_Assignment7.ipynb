{
 "cells": [
  {
   "cell_type": "code",
   "execution_count": null,
   "metadata": {},
   "outputs": [],
   "source": [
    "Q1). Write a function that counts how many concentric layers a rug."
   ]
  },
  {
   "cell_type": "code",
   "execution_count": 1,
   "metadata": {},
   "outputs": [
    {
     "name": "stdout",
     "output_type": "stream",
     "text": [
      "2\n",
      "3\n",
      "5\n"
     ]
    }
   ],
   "source": [
    "import numpy as np\n",
    "\n",
    "def count_layers(arr):\n",
    "    arr1 = np.unique(arr)\n",
    "    return arr1.size\n",
    "\n",
    "print(count_layers([ \"AAAA\", \"ABBA\", \"AAAA\" ]))\n",
    "print(count_layers([ \"AAAAAAAAA\", \"ABBBBBBBA\", \"ABBAAABBA\", \"ABBBBBBBA\", \"AAAAAAAAA\" ]) )\n",
    "print(count_layers([ \"AAAAAAAAAAA\", \"AABBBBBBBAA\", \"AABCCCCCBAA\", \"AABCAAACBAA\", \"AABCADACBAA\", \"AABCAAACBAA\", \"AABCCCCCBAA\", \"AABBBBBBBAA\", \"AAAAAAAAAAA\" ]) )"
   ]
  },
  {
   "cell_type": "code",
   "execution_count": null,
   "metadata": {},
   "outputs": [],
   "source": [
    "Q2). There are many different styles of music and many albums exhibit multiple\n",
    "styles. Create a function that takes a list of musical styles from albums and\n",
    "returns how many styles are unique."
   ]
  },
  {
   "cell_type": "code",
   "execution_count": 2,
   "metadata": {},
   "outputs": [
    {
     "name": "stdout",
     "output_type": "stream",
     "text": [
      "9\n",
      "7\n"
     ]
    }
   ],
   "source": [
    "def unique_styles(li):\n",
    "    l1 = []\n",
    "    for item in li:\n",
    "        item = item.split(',')\n",
    "        for j in item:\n",
    "            l1.append(j) \n",
    "    \n",
    "    return len(set(l1))\n",
    "        \n",
    "        \n",
    "print(unique_styles([ \"Dub,Dancehall\", \"Industrial,Heavy Metal\", \"Techno,Dubstep\", \"Synth-pop,Euro-Disco\", \"Industrial,Techno,Minimal\" ]))\n",
    "print(unique_styles([ \"Soul\", \"House,Folk\", \"Trance,Downtempo,Big Beat,House\", \"Deep House\", \"Soul\" ]) )"
   ]
  },
  {
   "cell_type": "code",
   "execution_count": null,
   "metadata": {},
   "outputs": [],
   "source": [
    "Q3). Create a function that finds a target number in a list of prime numbers.\n",
    "Implement a binary search algorithm in your function. The target number will\n",
    "be from 2 through 97. If the target is prime then return yes else return no."
   ]
  },
  {
   "cell_type": "code",
   "execution_count": 3,
   "metadata": {},
   "outputs": [
    {
     "name": "stdout",
     "output_type": "stream",
     "text": [
      "Yes\n",
      "No\n",
      "Yes\n",
      "No\n"
     ]
    }
   ],
   "source": [
    "def binary_search(arr,low,high,key):\n",
    "    if low<=high:\n",
    "        mid = int((low+high)//2)\n",
    "        if key == arr[mid]:\n",
    "            return mid\n",
    "        elif key > arr[mid]:\n",
    "            return binary_search(arr,mid+1,high,key)\n",
    "        else:\n",
    "            return binary_search(arr,low,mid-1,key)\n",
    "    else:\n",
    "        return -1\n",
    "    \n",
    "def is_prime(li,n):\n",
    "    if n in range(2,97):\n",
    "        ans = binary_search(sorted(li),0,len(li),n)\n",
    "        if ans>0:\n",
    "            return \"Yes\"\n",
    "        else:\n",
    "            return \"No\"\n",
    "        \n",
    "\n",
    "primes = [2, 3, 5, 7, 11, 13, 17, 19, 23, 29, 31, 37, 41, 43, 47, 53, 59, 61, 67, 71, 73, 79, 83, 89, 97]\n",
    "\n",
    "print(is_prime(primes, 3))\n",
    "print(is_prime(primes, 4))\n",
    "print(is_prime(primes, 67))\n",
    "print(is_prime(primes, 36))"
   ]
  },
  {
   "cell_type": "code",
   "execution_count": null,
   "metadata": {},
   "outputs": [],
   "source": [
    "Q4). Create a function that takes in n, a, b and returns the number of positive\n",
    "values raised to the nth power that lie in the range [a, b], inclusive."
   ]
  },
  {
   "cell_type": "code",
   "execution_count": 4,
   "metadata": {},
   "outputs": [
    {
     "name": "stdout",
     "output_type": "stream",
     "text": [
      "2\n",
      "3\n",
      "1\n",
      "1\n",
      "3\n"
     ]
    }
   ],
   "source": [
    "def power_ranger(n,a,b):\n",
    "    count = 0\n",
    "    a1 = int(a**(1/n))\n",
    "    b1 = int(b**(1/n))\n",
    "    for i in range(a1,b1+1):\n",
    "        if i**n in range(a,b+1):\n",
    "            count += 1\n",
    "    return count\n",
    "\n",
    "print(power_ranger(2,49,65))\n",
    "print(power_ranger(3, 1, 27))\n",
    "print(power_ranger(10, 1, 5))\n",
    "print(power_ranger(5,31,33))    \n",
    "print(power_ranger(4,250,1300))    "
   ]
  },
  {
   "cell_type": "code",
   "execution_count": null,
   "metadata": {},
   "outputs": [],
   "source": [
    "Q5). Given a number, return the difference between the maximum and minimum\n",
    "numbers that can be formed when the digits are rearranged."
   ]
  },
  {
   "cell_type": "code",
   "execution_count": 5,
   "metadata": {},
   "outputs": [
    {
     "name": "stdout",
     "output_type": "stream",
     "text": [
      "760833\n",
      "7709823\n"
     ]
    }
   ],
   "source": [
    "def rearranged_difference(n):\n",
    "    n = str(n)\n",
    "    nl,nh = '', ''\n",
    "   \n",
    "    n_high = sorted(n, reverse = True)\n",
    "    n_low = sorted(n)\n",
    "    \n",
    "    for i in n_low:\n",
    "        nl += ''.join(i)\n",
    "    for j in n_high:\n",
    "        nh += ''.join(j)\n",
    "    return int(nh) - int(nl)\n",
    "    \n",
    "print(rearranged_difference(972882))\n",
    "print(rearranged_difference(3320707))"
   ]
  },
  {
   "cell_type": "code",
   "execution_count": null,
   "metadata": {},
   "outputs": [],
   "source": []
  }
 ],
 "metadata": {
  "kernelspec": {
   "display_name": "Python 3",
   "language": "python",
   "name": "python3"
  },
  "language_info": {
   "codemirror_mode": {
    "name": "ipython",
    "version": 3
   },
   "file_extension": ".py",
   "mimetype": "text/x-python",
   "name": "python",
   "nbconvert_exporter": "python",
   "pygments_lexer": "ipython3",
   "version": "3.8.5"
  }
 },
 "nbformat": 4,
 "nbformat_minor": 4
}
