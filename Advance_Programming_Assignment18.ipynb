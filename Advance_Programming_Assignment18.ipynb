{
 "cells": [
  {
   "cell_type": "code",
   "execution_count": null,
   "metadata": {},
   "outputs": [],
   "source": [
    "Q1). A robot has been given a list of movement instructions. Each instruction is\n",
    "either left, right, up or down, followed by a distance to move. The robot starts\n",
    "at [0, 0]. You want to calculate where the robot will end up and return its final\n",
    "position as a list."
   ]
  },
  {
   "cell_type": "code",
   "execution_count": 1,
   "metadata": {},
   "outputs": [],
   "source": [
    "def track_robot(li):\n",
    "    x = 0\n",
    "    y = 0\n",
    "    for i in range(len(li)):\n",
    "        s = li[i].split()\n",
    "        n = int(s[1])\n",
    "        if s[0] == 'right':\n",
    "            x += n\n",
    "        if s[0] == 'left':\n",
    "            x -= n\n",
    "        if s[0] == 'up':\n",
    "            y += n\n",
    "        if s[0] == 'down':\n",
    "            y -= n\n",
    "    ans = []\n",
    "    ans.append(x)\n",
    "    ans.append(y)\n",
    "    return ans"
   ]
  },
  {
   "cell_type": "code",
   "execution_count": null,
   "metadata": {},
   "outputs": [],
   "source": [
    "Q2). Write a function that will return the longest word in a sentence. In cases\n",
    "where more than one word is found, return the first one."
   ]
  },
  {
   "cell_type": "code",
   "execution_count": 2,
   "metadata": {},
   "outputs": [
    {
     "name": "stdout",
     "output_type": "stream",
     "text": [
      "forever.\n",
      "Forgetfulness\n"
     ]
    }
   ],
   "source": [
    "def find_longest(s):\n",
    "    s = s.split()\n",
    "    ans_index = 0\n",
    "    max_len = 0\n",
    "    for i in range(len(s)):\n",
    "        if len(s[i]) > max_len:\n",
    "            max_len = len(s[i])\n",
    "            ans_index = i\n",
    "    return s[ans_index]\n",
    "\n",
    "print(find_longest(\"A thing of beauty is a joy forever.\"))\n",
    "print(find_longest(\"Forgetfulness is by all means powerless!\")   )"
   ]
  },
  {
   "cell_type": "code",
   "execution_count": null,
   "metadata": {},
   "outputs": [],
   "source": [
    "Q3). Create a function to check if a candidate is qualified in an imaginary coding\n",
    "interview of an imaginary tech startup."
   ]
  },
  {
   "cell_type": "code",
   "execution_count": 3,
   "metadata": {},
   "outputs": [
    {
     "name": "stdout",
     "output_type": "stream",
     "text": [
      "qualified\n",
      "qualified\n",
      "disqualified\n",
      "disqualified\n",
      "disqualified\n"
     ]
    }
   ],
   "source": [
    "def interview(l,total_time):\n",
    "    if total_time <= 120 and len(l) == 8:\n",
    "        for i in l[0:2]:\n",
    "            if i > 5:\n",
    "                return \"disqualified\"\n",
    "        for i in l[2:4]:\n",
    "            if i > 10:\n",
    "                return \"disqualified\"\n",
    "        for i in l[4:6]:\n",
    "            if i > 15:\n",
    "                return \"disqualified\"\n",
    "        for i in l[6:8]:\n",
    "            if i > 20:\n",
    "                return \"disqualified\"\n",
    "    else:\n",
    "        return \"disqualified\"\n",
    "    \n",
    "    return 'qualified'\n",
    "\n",
    "print(interview([5, 5, 10, 10, 15, 15, 20, 20], 120) )\n",
    "print(interview([2, 3, 8, 6, 5, 12, 10, 18], 64) )\n",
    "print(interview([5, 5, 10, 10, 25, 15, 20, 20], 120) )\n",
    "print(interview([5, 5, 10, 10, 15, 15, 20], 120))\n",
    "print(interview([5, 5, 10, 10, 15, 15, 20, 20], 130) )"
   ]
  },
  {
   "cell_type": "code",
   "execution_count": null,
   "metadata": {},
   "outputs": [],
   "source": [
    "Q4). Write a function that divides a list into chunks of size n, where n is the\n",
    "length of each chunk."
   ]
  },
  {
   "cell_type": "code",
   "execution_count": 4,
   "metadata": {},
   "outputs": [
    {
     "name": "stdout",
     "output_type": "stream",
     "text": [
      "[[2, 3], [4, 5]]\n",
      "[[2, 3], [4, 5], [6]]\n",
      "[[2, 3, 4], [5, 6, 7]]\n",
      "[[2], [3], [4], [5], [6], [7]]\n",
      "[[2, 3, 4, 5, 6, 7]]\n"
     ]
    }
   ],
   "source": [
    "def chunkify(lst, size):\n",
    "    return [lst[i:i + size] for i in range(0,len(lst),size)]\n",
    "\n",
    "print(chunkify([2, 3, 4, 5], 2))\n",
    "print(chunkify([2, 3, 4, 5, 6], 2))\n",
    "print(chunkify([2, 3, 4, 5, 6, 7], 3))\n",
    "print(chunkify([2, 3, 4, 5, 6, 7], 1))\n",
    "print(chunkify([2, 3, 4, 5, 6, 7], 7))"
   ]
  },
  {
   "cell_type": "code",
   "execution_count": null,
   "metadata": {},
   "outputs": [],
   "source": [
    "Q5). You are given a list of strings consisting of grocery items, with prices in\n",
    "parentheses. Return a list of prices in float format."
   ]
  },
  {
   "cell_type": "code",
   "execution_count": 5,
   "metadata": {},
   "outputs": [
    {
     "name": "stdout",
     "output_type": "stream",
     "text": [
      "[1.99, 5.99, 0.75]\n",
      "[5.99, 0.2, 8.5, 1.99]\n",
      "[4.99]\n"
     ]
    }
   ],
   "source": [
    "def get_prices(l):\n",
    "    l1 = []\n",
    "    for i in l:\n",
    "        l1.append(i.split(' ')[-1].replace('($', '').replace(')',''))\n",
    "    return list(map(float,l1))\n",
    "\n",
    "print(get_prices(l = [\n",
    "  \"artichokes ($1.99)\",\n",
    "  \"rotiserrie chicken ($5.99)\",\n",
    "  \"gum ($0.75)\"\n",
    "]))\n",
    "\n",
    "print(get_prices([\n",
    "  \"ice cream ($5.99)\",\n",
    "  \"banana ($0.20)\",\n",
    "  \"sandwich ($8.50)\",\n",
    "  \"soup ($1.99)\"\n",
    "])\n",
    ")\n",
    "print(get_prices([\"salad ($4.99)\"]))"
   ]
  },
  {
   "cell_type": "code",
   "execution_count": null,
   "metadata": {},
   "outputs": [],
   "source": []
  }
 ],
 "metadata": {
  "kernelspec": {
   "display_name": "Python 3",
   "language": "python",
   "name": "python3"
  },
  "language_info": {
   "codemirror_mode": {
    "name": "ipython",
    "version": 3
   },
   "file_extension": ".py",
   "mimetype": "text/x-python",
   "name": "python",
   "nbconvert_exporter": "python",
   "pygments_lexer": "ipython3",
   "version": "3.8.5"
  }
 },
 "nbformat": 4,
 "nbformat_minor": 4
}
