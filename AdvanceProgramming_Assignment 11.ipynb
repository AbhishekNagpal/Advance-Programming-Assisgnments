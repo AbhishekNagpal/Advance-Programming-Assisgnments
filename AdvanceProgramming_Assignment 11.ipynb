{
 "cells": [
  {
   "cell_type": "code",
   "execution_count": null,
   "metadata": {},
   "outputs": [],
   "source": [
    "Q1). Create a function that takes a list and returns a new list containing only\n",
    "prime numbers."
   ]
  },
  {
   "cell_type": "code",
   "execution_count": 1,
   "metadata": {},
   "outputs": [
    {
     "name": "stdout",
     "output_type": "stream",
     "text": [
      "[7, 3, 11]\n",
      "[10007, 1009]\n",
      "[1009, 3, 61, 1087, 1091, 1093, 1097]\n"
     ]
    }
   ],
   "source": [
    "def filter_primes(li):\n",
    "    ans = []\n",
    "    for i in li:\n",
    "        if i==1 or i==0:\n",
    "            continue\n",
    "        else:\n",
    "            for j in range(2,int(i/2)+1):\n",
    "                if i%j == 0:\n",
    "                    break\n",
    "            else:\n",
    "                ans.append(i)\n",
    "    return ans\n",
    "\n",
    "print(filter_primes([7, 9, 3, 9, 10, 11, 27]))\n",
    "print(filter_primes([10007, 1009, 1007, 27, 147, 77, 1001, 70]))\n",
    "print(filter_primes([1009, 10, 10, 10, 3, 33, 9, 4, 1, 61, 63, 69, 1087, 1091, 1093,\n",
    "1097]))"
   ]
  },
  {
   "cell_type": "code",
   "execution_count": null,
   "metadata": {},
   "outputs": [],
   "source": [
    "Q2). The effect of a water balloon popping can be modeled using a list. Create a\n",
    "function that takes a list which takes the pre-pop state and returns the state\n",
    "after the balloon is popped. The pre-pop state will contain at most a single\n",
    "balloon, whose size is represented by the only non-zero element."
   ]
  },
  {
   "cell_type": "code",
   "execution_count": 2,
   "metadata": {},
   "outputs": [
    {
     "name": "stdout",
     "output_type": "stream",
     "text": [
      "[0, 1, 2, 3, 4, 3, 2, 1, 0]\n",
      "[0, 1, 2, 3, 2, 1, 0]\n",
      "[0, 1, 2, 1, 0]\n",
      "[0]\n"
     ]
    }
   ],
   "source": [
    "def pop(li):\n",
    "    ans = []\n",
    "    l = len(li)\n",
    "    mid = li[l//2]\n",
    "    for i in range(mid):\n",
    "        ans.append(i)\n",
    "    ans1 = ans.copy()\n",
    "    ans1.reverse()\n",
    "    final_ans = []\n",
    "    final_ans.extend(ans)\n",
    "    final_ans.append(mid)\n",
    "    final_ans.extend(ans1)\n",
    "    return final_ans\n",
    "\n",
    "print(pop([0, 0, 0, 0, 4, 0, 0, 0, 0]))\n",
    "print(pop([0, 0, 0, 3, 0, 0, 0]))\n",
    "print(pop([0, 0, 2, 0, 0]))\n",
    "print(pop([0]))"
   ]
  },
  {
   "cell_type": "code",
   "execution_count": null,
   "metadata": {},
   "outputs": [],
   "source": [
    "Q3). 'Loves me, loves me not' is a traditional game in which a person plucks off\n",
    "all the petals of a flower one by one, saying the phrase 'Loves me' and\n",
    "'Loves me not' when determining whether the one that they love, loves them\n",
    "back."
   ]
  },
  {
   "cell_type": "code",
   "execution_count": 3,
   "metadata": {},
   "outputs": [
    {
     "name": "stdout",
     "output_type": "stream",
     "text": [
      "Loves me,Loves me not,LOVES ME\n",
      "Loves me,Loves me not,Loves me,Loves me not,Loves me,LOVES ME NOT\n",
      "LOVES ME\n"
     ]
    }
   ],
   "source": [
    "def loves_me(n):\n",
    "    ans = ''\n",
    "    for i in range(1,n):\n",
    "        if (i&1):\n",
    "            ans += 'Loves me,'\n",
    "        else:\n",
    "            ans += 'Loves me not,'\n",
    "    if (n&1):\n",
    "        ans += 'LOVES ME'\n",
    "    else:\n",
    "        ans += 'LOVES ME NOT'\n",
    "    return ans\n",
    "\n",
    "print(loves_me(3))\n",
    "print(loves_me(6))\n",
    "print(loves_me(1))"
   ]
  },
  {
   "cell_type": "code",
   "execution_count": null,
   "metadata": {},
   "outputs": [],
   "source": [
    "Q4). Write a function that sorts each string in a list by the letter in alphabetic\n",
    "ascending order"
   ]
  },
  {
   "cell_type": "code",
   "execution_count": 4,
   "metadata": {},
   "outputs": [
    {
     "name": "stdout",
     "output_type": "stream",
     "text": [
      "['2344b', '932c', '832u32']\n",
      "['99a', '78b', 'c2345', '11d']\n",
      "['304q2', '5y5', '572z']\n",
      "[]\n"
     ]
    }
   ],
   "source": [
    "def sort_by_letter(in_list):\n",
    "    temp_list = []\n",
    "    output = []\n",
    "    for ele in in_list:\n",
    "        for char in ele:\n",
    "            if char.isalpha():\n",
    "                temp_list.append(char)\n",
    "    temp_list.sort()\n",
    "    for char in temp_list:\n",
    "        for ele in in_list:\n",
    "            if char in ele:\n",
    "                output.append(ele)\n",
    "    \n",
    "    return output\n",
    "                \n",
    "print(sort_by_letter([\"932c\", \"832u32\", \"2344b\"]))\n",
    "print(sort_by_letter([\"99a\", \"78b\", \"c2345\", \"11d\"]))\n",
    "print(sort_by_letter([\"572z\", \"5y5\", \"304q2\"]))\n",
    "print(sort_by_letter([]))"
   ]
  },
  {
   "cell_type": "code",
   "execution_count": null,
   "metadata": {},
   "outputs": [],
   "source": [
    "Q5). There are three cups on a table, at positions A, B, and C. At the start, there is a ball hidden under the cup at position B"
   ]
  },
  {
   "cell_type": "code",
   "execution_count": 5,
   "metadata": {},
   "outputs": [
    {
     "name": "stdout",
     "output_type": "stream",
     "text": [
      "C\n"
     ]
    }
   ],
   "source": [
    "def cup_swapping(swap_list,intitial_ball_pos):\n",
    "    ball_position = intitial_ball_pos\n",
    "    for ele in swap_list:\n",
    "        if ball_position in ele:\n",
    "            ball_position = ele.replace(ball_position,'')\n",
    "    return  ball_position\n",
    "            \n",
    "print(cup_swapping([\"AB\", \"CA\", \"AB\"],'B'))\n"
   ]
  },
  {
   "cell_type": "code",
   "execution_count": null,
   "metadata": {},
   "outputs": [],
   "source": []
  }
 ],
 "metadata": {
  "kernelspec": {
   "display_name": "Python 3",
   "language": "python",
   "name": "python3"
  },
  "language_info": {
   "codemirror_mode": {
    "name": "ipython",
    "version": 3
   },
   "file_extension": ".py",
   "mimetype": "text/x-python",
   "name": "python",
   "nbconvert_exporter": "python",
   "pygments_lexer": "ipython3",
   "version": "3.8.5"
  }
 },
 "nbformat": 4,
 "nbformat_minor": 4
}
