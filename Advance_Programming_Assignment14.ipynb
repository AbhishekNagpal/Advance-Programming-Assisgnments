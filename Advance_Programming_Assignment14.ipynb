{
 "cells": [
  {
   "cell_type": "code",
   "execution_count": null,
   "metadata": {},
   "outputs": [],
   "source": [
    "Q1). Given a list of numbers, create a function that removes 25% from every\n",
    "number in the list except the smallest number, and adds the total amount\n",
    "removed to the smallest number."
   ]
  },
  {
   "cell_type": "code",
   "execution_count": 1,
   "metadata": {},
   "outputs": [
    {
     "name": "stdout",
     "output_type": "stream",
     "text": [
      "[3.0, 3.0, 3.0]\n",
      "[12.0, 7.5, 14.5]\n",
      "[27.0, 75.0]\n"
     ]
    }
   ],
   "source": [
    "def show_the_love(li):\n",
    "    residual = 0\n",
    "    mn = li[0]\n",
    "    index = 0\n",
    "    for i in range(len(li)):\n",
    "        if mn>li[i]:\n",
    "            mn = li[i]\n",
    "            index = i\n",
    "    for j in range(len(li)):\n",
    "        if j != index:\n",
    "            residual = residual + (li[j]/100)*25\n",
    "            li[j] = li[j] - (li[j]/100)*25\n",
    "    li[index] = li[index] + residual\n",
    "    return li\n",
    "\n",
    "print(show_the_love([4,1,4]))\n",
    "print(show_the_love([16, 10, 8]))\n",
    "print(show_the_love([2, 100]))"
   ]
  },
  {
   "cell_type": "code",
   "execution_count": null,
   "metadata": {},
   "outputs": [],
   "source": [
    "Q2). Create a function that takes in two words as input and returns a list of three\n",
    "elements, in the following order:\n",
    "1.Shared letters between two words.\n",
    "2.Letters unique to word 1.\n",
    "3.Letters unique to word 2."
   ]
  },
  {
   "cell_type": "code",
   "execution_count": 2,
   "metadata": {},
   "outputs": [
    {
     "name": "stdout",
     "output_type": "stream",
     "text": [
      "['asp', 'rh', 'o']\n",
      "['rbdo', 'a', 'e']\n",
      "['pne', 'asih', 'lvo']\n",
      "['luf', 'rke', 'y']\n",
      "['amh', 'tc', '']\n"
     ]
    }
   ],
   "source": [
    "def letters(w1,w2):\n",
    "    common = ''\n",
    "    for i in set(w1)&set(w2):\n",
    "        common += ''.join(i)\n",
    "    \n",
    "    unique1 = ''\n",
    "    for i in set(w1).difference(set(w2)):\n",
    "        unique1 += ''.join(i)\n",
    "        \n",
    "    unique2 = ''\n",
    "    for i in set(w2).difference(set(w1)):\n",
    "        unique2 += ''.join(i)\n",
    "        \n",
    "    li = []\n",
    "    li.append(common)\n",
    "    li.append(unique1)\n",
    "    li.append(unique2)\n",
    "        \n",
    "    return li\n",
    "\n",
    "print(letters(\"sharp\", \"soap\"))\n",
    "print(letters(\"board\", \"bored\") )\n",
    "print(letters(\"happiness\", \"envelope\"))\n",
    "print(letters(\"kerfuffle\", \"fluffy\"))\n",
    "print(letters(\"match\",\"ham\"))"
   ]
  },
  {
   "cell_type": "code",
   "execution_count": null,
   "metadata": {},
   "outputs": [],
   "source": [
    "Q3). Write a function that pairs the first number in an array with the last, the\n",
    "second number with the second to last, etc."
   ]
  },
  {
   "cell_type": "code",
   "execution_count": 3,
   "metadata": {},
   "outputs": [
    {
     "name": "stdout",
     "output_type": "stream",
     "text": [
      "[[1, 7], [2, 6], [3, 5], [4, 4]]\n",
      "[[1, 6], [2, 5], [3, 4]]\n",
      "[[5, 2], [9, 1], [8, 8]]\n"
     ]
    }
   ],
   "source": [
    "import math\n",
    "def pairs(arr):\n",
    "    li = []\n",
    "    n = len(arr)-1\n",
    "    for i in range(math.ceil(len(arr)/2)):\n",
    "        li1 = []\n",
    "        li1.append(arr[i])\n",
    "        li1.append(arr[n-i])\n",
    "        li.append(li1)\n",
    "    return li\n",
    "print(pairs([1, 2, 3, 4, 5, 6, 7]))\n",
    "print(pairs([1, 2, 3, 4, 5, 6]))\n",
    "print(pairs([5, 9, 8, 1, 2]))"
   ]
  },
  {
   "cell_type": "code",
   "execution_count": null,
   "metadata": {},
   "outputs": [],
   "source": [
    "Q4). Write a function that adds two numbers. The catch, however, is that the\n",
    "numbers will be strings."
   ]
  },
  {
   "cell_type": "code",
   "execution_count": 4,
   "metadata": {},
   "outputs": [
    {
     "name": "stdout",
     "output_type": "stream",
     "text": [
      "9\n",
      "-1\n",
      "1\n",
      "1874682736267235927391936562808774986\n"
     ]
    }
   ],
   "source": [
    "def add_str_nums(s1,s2):\n",
    "    if s1 != '' and s2 != '':\n",
    "        if s1.isnumeric() and s2.isnumeric():\n",
    "            \n",
    "            return str(int(s1) + int(s2))\n",
    "        else:\n",
    "            return -1\n",
    "    else:\n",
    "        return s1 + s2\n",
    "    \n",
    "    \n",
    "print(add_str_nums(\"4\",\"5\"))\n",
    "print(add_str_nums(\"abcdefg\", \"3\"))\n",
    "print(add_str_nums(\"1\",\"\"))\n",
    "print(add_str_nums(\"1874682736267235927359283579235789257\", \"32652983572985729\"))"
   ]
  },
  {
   "cell_type": "code",
   "execution_count": null,
   "metadata": {},
   "outputs": [],
   "source": [
    "Q5). lPaeesh le pemu mnxit ehess rtnisg! Oh, sorry, that was supposed to say:\n",
    "Please help me unmix these strings!\n",
    "Somehow my strings have all become mixed up; every pair of characters has\n",
    "been swapped. Help me undo this so I can understand my strings again."
   ]
  },
  {
   "cell_type": "code",
   "execution_count": 5,
   "metadata": {},
   "outputs": [
    {
     "name": "stdout",
     "output_type": "stream",
     "text": [
      "214365\n",
      "This is a mixed up string.\n",
      "abcde\n"
     ]
    }
   ],
   "source": [
    "def unmix(s):\n",
    "    length = len(s)\n",
    "\n",
    "    if length % 2 != 0 :\n",
    "        length = length - 1\n",
    "\n",
    "    l = list(s)\n",
    "    i = 0\n",
    "    while True:\n",
    "        if i == length:\n",
    "            break\n",
    "        else:\n",
    "            l[i], l[i+1] = l[i+1],l[i]\n",
    "            i += 2\n",
    "\n",
    "    s = ''\n",
    "    for i in l:\n",
    "        s += ''.join(i)\n",
    "\n",
    "    return s    \n",
    "\n",
    "print(unmix(\"123456\"))\n",
    "print(unmix(\"hTsii  s aimex dpus rtni.g\"))\n",
    "print(unmix(\"badce\"))"
   ]
  },
  {
   "cell_type": "code",
   "execution_count": null,
   "metadata": {},
   "outputs": [],
   "source": []
  }
 ],
 "metadata": {
  "kernelspec": {
   "display_name": "Python 3",
   "language": "python",
   "name": "python3"
  },
  "language_info": {
   "codemirror_mode": {
    "name": "ipython",
    "version": 3
   },
   "file_extension": ".py",
   "mimetype": "text/x-python",
   "name": "python",
   "nbconvert_exporter": "python",
   "pygments_lexer": "ipython3",
   "version": "3.8.5"
  }
 },
 "nbformat": 4,
 "nbformat_minor": 4
}
